{
 "cells": [
  {
   "cell_type": "markdown",
   "metadata": {},
   "source": [
    "### Run this file to install dependencies"
   ]
  },
  {
   "cell_type": "code",
   "metadata": {
    "ExecuteTime": {
     "end_time": "2025-02-08T21:20:52.106183Z",
     "start_time": "2025-02-08T21:20:49.396807Z"
    }
   },
   "source": [
    "import os\n",
    "import sys\n",
    "import subprocess\n",
    "\n",
    "# Define virtual environment name\n",
    "venv_name = \"env\"\n",
    "\n",
    "# Determine the correct python executable\n",
    "python_executable = sys.executable\n",
    "\n",
    "# Create the virtual environment\n",
    "print(f\"Creating virtual environment: {venv_name}\")\n",
    "subprocess.run([python_executable, \"-m\", \"venv\", venv_name], check=True)\n",
    "\n",
    "# Determine activation command based on OS\n",
    "if sys.platform == \"win32\":  # Windows\n",
    "    activate_script = os.path.join(venv_name, \"Scripts\", \"activate\")\n",
    "elif sys.platform == \"darwin\" or sys.platform.startswith(\"linux\"):  # macOS or Linux\n",
    "    activate_script = os.path.join(venv_name, \"bin\", \"activate\")\n",
    "else:\n",
    "    raise RuntimeError(\"Unsupported OS\")\n",
    "\n",
    "# Upgrade pip inside the virtual environment\n",
    "print(\"Upgrading pip...\")\n",
    "subprocess.run([os.path.join(venv_name, \"bin\", \"python\"), \"-m\", \"pip\", \"install\", \"--upgrade\", \"pip\"], check=True)\n",
    "\n",
    "# Install dependencies from requirements.txt if it exists\n",
    "requirements_file = \"requirements.txt\"\n",
    "if os.path.exists(requirements_file):\n",
    "    print(f\"Installing dependencies from {requirements_file}...\")\n",
    "    subprocess.run([os.path.join(venv_name, \"bin\", \"python\"), \"-m\", \"pip\", \"install\", \"-r\", requirements_file], check=True)\n",
    "else:\n",
    "    print(f\"Warning: {requirements_file} not found. Skipping dependency installation.\")\n",
    "\n",
    "print(\"\\n✅ Setup complete! Activate your environment using:\")\n",
    "if sys.platform == \"win32\":\n",
    "    print(f\"  {activate_script}\")  # Windows\n",
    "else:\n",
    "    print(f\"  source {activate_script}\")  # macOS/Linux"
   ],
   "outputs": [
    {
     "name": "stdout",
     "output_type": "stream",
     "text": [
      "Creating virtual environment: env\n",
      "Upgrading pip...\n",
      "Requirement already satisfied: pip in ./env/lib/python3.10/site-packages (25.0)\n",
      "Installing dependencies from requirements.txt...\n",
      "Collecting asttokens==3.0.0 (from -r requirements.txt (line 1))\n",
      "  Using cached asttokens-3.0.0-py3-none-any.whl.metadata (4.7 kB)\n",
      "Collecting colorama==0.4.6 (from -r requirements.txt (line 2))\n",
      "  Using cached colorama-0.4.6-py2.py3-none-any.whl.metadata (17 kB)\n",
      "Collecting comm==0.2.2 (from -r requirements.txt (line 3))\n",
      "  Using cached comm-0.2.2-py3-none-any.whl.metadata (3.7 kB)\n",
      "Collecting debugpy==1.8.12 (from -r requirements.txt (line 4))\n",
      "  Using cached debugpy-1.8.12-py2.py3-none-any.whl.metadata (1.3 kB)\n",
      "Collecting decorator==5.1.1 (from -r requirements.txt (line 5))\n",
      "  Using cached decorator-5.1.1-py3-none-any.whl.metadata (4.0 kB)\n",
      "Collecting exceptiongroup==1.2.2 (from -r requirements.txt (line 6))\n",
      "  Using cached exceptiongroup-1.2.2-py3-none-any.whl.metadata (6.6 kB)\n",
      "Collecting executing==2.2.0 (from -r requirements.txt (line 7))\n",
      "  Using cached executing-2.2.0-py2.py3-none-any.whl.metadata (8.9 kB)\n",
      "Collecting ipykernel==6.29.5 (from -r requirements.txt (line 8))\n",
      "  Using cached ipykernel-6.29.5-py3-none-any.whl.metadata (6.3 kB)\n",
      "Collecting ipython==8.32.0 (from -r requirements.txt (line 9))\n",
      "  Using cached ipython-8.32.0-py3-none-any.whl.metadata (5.0 kB)\n",
      "Collecting jedi==0.19.2 (from -r requirements.txt (line 10))\n",
      "  Using cached jedi-0.19.2-py2.py3-none-any.whl.metadata (22 kB)\n",
      "Collecting jupyter_client==8.6.3 (from -r requirements.txt (line 11))\n",
      "  Using cached jupyter_client-8.6.3-py3-none-any.whl.metadata (8.3 kB)\n",
      "Collecting jupyter_core==5.7.2 (from -r requirements.txt (line 12))\n",
      "  Using cached jupyter_core-5.7.2-py3-none-any.whl.metadata (3.4 kB)\n",
      "Collecting matplotlib-inline==0.1.7 (from -r requirements.txt (line 13))\n",
      "  Using cached matplotlib_inline-0.1.7-py3-none-any.whl.metadata (3.9 kB)\n",
      "Collecting nest-asyncio==1.6.0 (from -r requirements.txt (line 14))\n",
      "  Using cached nest_asyncio-1.6.0-py3-none-any.whl.metadata (2.8 kB)\n",
      "Collecting packaging==24.2 (from -r requirements.txt (line 15))\n",
      "  Using cached packaging-24.2-py3-none-any.whl.metadata (3.2 kB)\n",
      "Collecting parso==0.8.4 (from -r requirements.txt (line 16))\n",
      "  Using cached parso-0.8.4-py2.py3-none-any.whl.metadata (7.7 kB)\n",
      "Collecting platformdirs==4.3.6 (from -r requirements.txt (line 17))\n",
      "  Using cached platformdirs-4.3.6-py3-none-any.whl.metadata (11 kB)\n",
      "Collecting prompt_toolkit==3.0.50 (from -r requirements.txt (line 18))\n",
      "  Using cached prompt_toolkit-3.0.50-py3-none-any.whl.metadata (6.6 kB)\n",
      "Collecting psutil==6.1.1 (from -r requirements.txt (line 19))\n",
      "  Using cached psutil-6.1.1-cp36-abi3-macosx_11_0_arm64.whl.metadata (22 kB)\n",
      "Collecting pure_eval==0.2.3 (from -r requirements.txt (line 20))\n",
      "  Using cached pure_eval-0.2.3-py3-none-any.whl.metadata (6.3 kB)\n",
      "Collecting Pygments==2.19.1 (from -r requirements.txt (line 21))\n",
      "  Using cached pygments-2.19.1-py3-none-any.whl.metadata (2.5 kB)\n",
      "Collecting python-dateutil==2.9.0.post0 (from -r requirements.txt (line 22))\n",
      "  Using cached python_dateutil-2.9.0.post0-py2.py3-none-any.whl.metadata (8.4 kB)\n"
     ]
    },
    {
     "name": "stderr",
     "output_type": "stream",
     "text": [
      "\u001B[31mERROR: Could not find a version that satisfies the requirement pywin32==308 (from versions: none)\u001B[0m\u001B[31m\n",
      "\u001B[0m\u001B[31mERROR: No matching distribution found for pywin32==308\u001B[0m\u001B[31m\n",
      "\u001B[0m"
     ]
    },
    {
     "ename": "CalledProcessError",
     "evalue": "Command '['env/bin/python', '-m', 'pip', 'install', '-r', 'requirements.txt']' returned non-zero exit status 1.",
     "output_type": "error",
     "traceback": [
      "\u001B[0;31m---------------------------------------------------------------------------\u001B[0m",
      "\u001B[0;31mCalledProcessError\u001B[0m                        Traceback (most recent call last)",
      "Cell \u001B[0;32mIn[2], line 31\u001B[0m\n\u001B[1;32m     29\u001B[0m \u001B[38;5;28;01mif\u001B[39;00m os\u001B[38;5;241m.\u001B[39mpath\u001B[38;5;241m.\u001B[39mexists(requirements_file):\n\u001B[1;32m     30\u001B[0m     \u001B[38;5;28mprint\u001B[39m(\u001B[38;5;124mf\u001B[39m\u001B[38;5;124m\"\u001B[39m\u001B[38;5;124mInstalling dependencies from \u001B[39m\u001B[38;5;132;01m{\u001B[39;00mrequirements_file\u001B[38;5;132;01m}\u001B[39;00m\u001B[38;5;124m...\u001B[39m\u001B[38;5;124m\"\u001B[39m)\n\u001B[0;32m---> 31\u001B[0m     \u001B[43msubprocess\u001B[49m\u001B[38;5;241;43m.\u001B[39;49m\u001B[43mrun\u001B[49m\u001B[43m(\u001B[49m\u001B[43m[\u001B[49m\u001B[43mos\u001B[49m\u001B[38;5;241;43m.\u001B[39;49m\u001B[43mpath\u001B[49m\u001B[38;5;241;43m.\u001B[39;49m\u001B[43mjoin\u001B[49m\u001B[43m(\u001B[49m\u001B[43mvenv_name\u001B[49m\u001B[43m,\u001B[49m\u001B[43m \u001B[49m\u001B[38;5;124;43m\"\u001B[39;49m\u001B[38;5;124;43mbin\u001B[39;49m\u001B[38;5;124;43m\"\u001B[39;49m\u001B[43m,\u001B[49m\u001B[43m \u001B[49m\u001B[38;5;124;43m\"\u001B[39;49m\u001B[38;5;124;43mpython\u001B[39;49m\u001B[38;5;124;43m\"\u001B[39;49m\u001B[43m)\u001B[49m\u001B[43m,\u001B[49m\u001B[43m \u001B[49m\u001B[38;5;124;43m\"\u001B[39;49m\u001B[38;5;124;43m-m\u001B[39;49m\u001B[38;5;124;43m\"\u001B[39;49m\u001B[43m,\u001B[49m\u001B[43m \u001B[49m\u001B[38;5;124;43m\"\u001B[39;49m\u001B[38;5;124;43mpip\u001B[39;49m\u001B[38;5;124;43m\"\u001B[39;49m\u001B[43m,\u001B[49m\u001B[43m \u001B[49m\u001B[38;5;124;43m\"\u001B[39;49m\u001B[38;5;124;43minstall\u001B[39;49m\u001B[38;5;124;43m\"\u001B[39;49m\u001B[43m,\u001B[49m\u001B[43m \u001B[49m\u001B[38;5;124;43m\"\u001B[39;49m\u001B[38;5;124;43m-r\u001B[39;49m\u001B[38;5;124;43m\"\u001B[39;49m\u001B[43m,\u001B[49m\u001B[43m \u001B[49m\u001B[43mrequirements_file\u001B[49m\u001B[43m]\u001B[49m\u001B[43m,\u001B[49m\u001B[43m \u001B[49m\u001B[43mcheck\u001B[49m\u001B[38;5;241;43m=\u001B[39;49m\u001B[38;5;28;43;01mTrue\u001B[39;49;00m\u001B[43m)\u001B[49m\n\u001B[1;32m     32\u001B[0m \u001B[38;5;28;01melse\u001B[39;00m:\n\u001B[1;32m     33\u001B[0m     \u001B[38;5;28mprint\u001B[39m(\u001B[38;5;124mf\u001B[39m\u001B[38;5;124m\"\u001B[39m\u001B[38;5;124mWarning: \u001B[39m\u001B[38;5;132;01m{\u001B[39;00mrequirements_file\u001B[38;5;132;01m}\u001B[39;00m\u001B[38;5;124m not found. Skipping dependency installation.\u001B[39m\u001B[38;5;124m\"\u001B[39m)\n",
      "File \u001B[0;32m/Library/Frameworks/Python.framework/Versions/3.10/lib/python3.10/subprocess.py:524\u001B[0m, in \u001B[0;36mrun\u001B[0;34m(input, capture_output, timeout, check, *popenargs, **kwargs)\u001B[0m\n\u001B[1;32m    522\u001B[0m     retcode \u001B[38;5;241m=\u001B[39m process\u001B[38;5;241m.\u001B[39mpoll()\n\u001B[1;32m    523\u001B[0m     \u001B[38;5;28;01mif\u001B[39;00m check \u001B[38;5;129;01mand\u001B[39;00m retcode:\n\u001B[0;32m--> 524\u001B[0m         \u001B[38;5;28;01mraise\u001B[39;00m CalledProcessError(retcode, process\u001B[38;5;241m.\u001B[39margs,\n\u001B[1;32m    525\u001B[0m                                  output\u001B[38;5;241m=\u001B[39mstdout, stderr\u001B[38;5;241m=\u001B[39mstderr)\n\u001B[1;32m    526\u001B[0m \u001B[38;5;28;01mreturn\u001B[39;00m CompletedProcess(process\u001B[38;5;241m.\u001B[39margs, retcode, stdout, stderr)\n",
      "\u001B[0;31mCalledProcessError\u001B[0m: Command '['env/bin/python', '-m', 'pip', 'install', '-r', 'requirements.txt']' returned non-zero exit status 1."
     ]
    }
   ],
   "execution_count": 2
  }
 ],
 "metadata": {
  "kernelspec": {
   "display_name": "Python 3",
   "language": "python",
   "name": "python3"
  },
  "language_info": {
   "codemirror_mode": {
    "name": "ipython",
    "version": 3
   },
   "file_extension": ".py",
   "mimetype": "text/x-python",
   "name": "python",
   "nbconvert_exporter": "python",
   "pygments_lexer": "ipython3",
   "version": "3.10.7"
  }
 },
 "nbformat": 4,
 "nbformat_minor": 2
}
