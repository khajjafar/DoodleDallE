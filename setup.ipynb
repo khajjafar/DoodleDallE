{
 "cells": [
  {
   "cell_type": "markdown",
   "metadata": {},
   "source": [
    "### Run this file to install dependencies"
   ]
  },
  {
   "cell_type": "code",
   "execution_count": 1,
   "metadata": {},
   "outputs": [
    {
     "name": "stdout",
     "output_type": "stream",
     "text": [
      "Creating virtual environment: env\n",
      "Upgrading pip...\n",
      "Warning: requirements.txt not found. Skipping dependency installation.\n",
      "\n",
      "✅ Setup complete! Activate your environment using:\n",
      "  env\\Scripts\\activate\n"
     ]
    }
   ],
   "source": [
    "import os\n",
    "import sys\n",
    "import subprocess\n",
    "\n",
    "# Define virtual environment name\n",
    "venv_name = \"env\"\n",
    "\n",
    "# Determine the correct python executable\n",
    "python_executable = sys.executable\n",
    "\n",
    "# Create the virtual environment\n",
    "print(f\"Creating virtual environment: {venv_name}\")\n",
    "subprocess.run([python_executable, \"-m\", \"venv\", venv_name], check=True)\n",
    "\n",
    "# Determine activation command based on OS\n",
    "if sys.platform == \"win32\":  # Windows\n",
    "    activate_script = os.path.join(venv_name, \"Scripts\", \"activate\")\n",
    "elif sys.platform == \"darwin\" or sys.platform.startswith(\"linux\"):  # macOS or Linux\n",
    "    activate_script = os.path.join(venv_name, \"bin\", \"activate\")\n",
    "else:\n",
    "    raise RuntimeError(\"Unsupported OS\")\n",
    "\n",
    "# Upgrade pip inside the virtual environment\n",
    "print(\"Upgrading pip...\")\n",
    "subprocess.run([os.path.join(venv_name, \"bin\" if sys.platform != \"win32\" else \"Scripts\", \"python\"), \"-m\", \"pip\", \"install\", \"--upgrade\", \"pip\"], check=True)\n",
    "\n",
    "# Install dependencies from requirements.txt if it exists\n",
    "requirements_file = \"requirements.txt\"\n",
    "if os.path.exists(requirements_file):\n",
    "    print(f\"Installing dependencies from {requirements_file}...\")\n",
    "    subprocess.run([os.path.join(venv_name, \"bin\" if sys.platform != \"win32\" else \"Scripts\", \"python\"), \"-m\", \"pip\", \"install\", \"-r\", requirements_file], check=True)\n",
    "else:\n",
    "    print(f\"Warning: {requirements_file} not found. Skipping dependency installation.\")\n",
    "\n",
    "print(\"\\n✅ Setup complete! Activate your environment using:\")\n",
    "if sys.platform == \"win32\":\n",
    "    print(f\"  {activate_script}\")  # Windows\n",
    "else:\n",
    "    print(f\"  source {activate_script}\")  # macOS/Linux"
   ]
  }
 ],
 "metadata": {
  "kernelspec": {
   "display_name": "Python 3",
   "language": "python",
   "name": "python3"
  },
  "language_info": {
   "codemirror_mode": {
    "name": "ipython",
    "version": 3
   },
   "file_extension": ".py",
   "mimetype": "text/x-python",
   "name": "python",
   "nbconvert_exporter": "python",
   "pygments_lexer": "ipython3",
   "version": "3.10.7"
  }
 },
 "nbformat": 4,
 "nbformat_minor": 2
}
